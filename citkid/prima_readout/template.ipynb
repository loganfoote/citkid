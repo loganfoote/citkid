{
 "cells": [
  {
   "cell_type": "code",
   "execution_count": null,
   "id": "31f9269f",
   "metadata": {},
   "outputs": [],
   "source": [
    "from kid233.stdimp import *\n",
    "from citkid.prima_readout.generator import generate_data\n",
    "from citkid.prima_readout.create_cal import make_x_cal\n",
    "from citkid.prima_readout.apply_cal import convert_iq_to_x\n",
    "from citkid.prima_readout.data_io import *\n",
    "from citkid.res.gain import remove_gain\n",
    "from citkid.prima_readout.cosmic_rays import remove_cosmic_rays\n",
    "from citkid.prima_readout.average import average_x"
   ]
  },
  {
   "cell_type": "markdown",
   "id": "339c322e",
   "metadata": {},
   "source": [
    "## Generate random data \n",
    "The following function generates fine scan data (ffine, zfine), gain scan data (fgain, zgain), and a timestream (f0 is the tone frequency and znoise is the timestream). The fine and gain scans have random parameters, and the noise timestream has fixed parameters (I want to vary these eventually), but scaled to the IQ loop. noise_factor is used to increase or decrease the average amount of noise in the IQ loops. "
   ]
  },
  {
   "cell_type": "code",
   "execution_count": null,
   "id": "49c9feea",
   "metadata": {},
   "outputs": [],
   "source": [
    "ffine, zfine, fgain, zgain, f0, znoise = generate_data(noise_factor = 0)"
   ]
  },
  {
   "cell_type": "markdown",
   "id": "d55584d9",
   "metadata": {},
   "source": [
    "## Create and save calibration file\n",
    "The following code is run on the ground to create calibration files, given the data that is measured (or in this case generated)."
   ]
  },
  {
   "cell_type": "code",
   "execution_count": null,
   "id": "6bdef116",
   "metadata": {
    "scrolled": false
   },
   "outputs": [],
   "source": [
    "# Create calibration data and plots\n",
    "fs = [np.mean(ffine)]\n",
    "Qs = [100000] # This scales with resonator Q\n",
    "p_amp, p_phase, origin, v, theta_fine, p_x, figs =\\\n",
    "make_x_cal(ffine, zfine, fgain, zgain, fs, Qs, plotq = True)\n",
    "\n",
    "# Save data and plots\n",
    "data_directory = 'C:/data/citkid_dev/prima_readout/test/'\n",
    "plot_directory = data_directory + 'plots/'\n",
    "filename = 'test'\n",
    "save_x_cal(data_directory, filename, p_amp, p_phase, origin, v, p_x, figs, \n",
    "           plot_directory = plot_directory, make_directories = True)\n",
    "ax = figs[1].axes[0]"
   ]
  },
  {
   "cell_type": "markdown",
   "id": "7e0b6a88",
   "metadata": {},
   "source": [
    "## Load calibration file"
   ]
  },
  {
   "cell_type": "code",
   "execution_count": null,
   "id": "c53064e1",
   "metadata": {},
   "outputs": [],
   "source": [
    "p_amp, p_phase, origin, v, p_x = load_x_cal(data_directory + filename + '.npz')"
   ]
  },
  {
   "cell_type": "markdown",
   "id": "9d2aa918",
   "metadata": {},
   "source": [
    "## Convert znoise to x using the loaded calibration"
   ]
  },
  {
   "cell_type": "code",
   "execution_count": null,
   "id": "14e9d782",
   "metadata": {},
   "outputs": [],
   "source": [
    "x = convert_iq_to_x(f0, znoise, p_amp, p_phase, origin, v, p_x)"
   ]
  },
  {
   "cell_type": "markdown",
   "id": "c9f948f5",
   "metadata": {},
   "source": [
    "## Remove cosmic rays\n",
    "We would characterize the time constant of each detector ahead of time. We have to characterize the spread accross the array: maybe this can be a fixed value for the whole array. cr_nstd will also be characterized ahead of time. I suspect it will depend on the noise of each detector. We need to do some work on cosmic ray generator, because they look a little weird right now. There is also some work to do on the peak finding algorithm parameters."
   ]
  },
  {
   "cell_type": "code",
   "execution_count": null,
   "id": "21e9e30f",
   "metadata": {},
   "outputs": [],
   "source": [
    "fsample = 10e3 # 10 kHz \n",
    "tsample = 1 / fsample\n",
    "cr_indices, x_rmvd = remove_cosmic_rays(x, tsample, cr_nstd = 6, time_constant = 1e-3)"
   ]
  },
  {
   "cell_type": "markdown",
   "id": "54357575",
   "metadata": {},
   "source": [
    "## Average data to 500 Hz"
   ]
  },
  {
   "cell_type": "code",
   "execution_count": null,
   "id": "95a2e502",
   "metadata": {},
   "outputs": [],
   "source": [
    "navg = 10000 // 500\n",
    "x_avg = average_x(x_rmvd, navg)"
   ]
  },
  {
   "cell_type": "markdown",
   "id": "c1b0f6d6",
   "metadata": {},
   "source": [
    "## Plot cosmic ray removal and averaging"
   ]
  },
  {
   "cell_type": "code",
   "execution_count": null,
   "id": "359900a4",
   "metadata": {},
   "outputs": [],
   "source": [
    "# Plot \n",
    "fig, ax = plt.subplots(figsize = [6, 2], dpi = 150, layout = 'tight')\n",
    "ax.set(xlabel = 'Time (s)', ylabel = 'x (Hz / MHz)')\n",
    "t = np.arange(0, tsample * len(x), tsample)\n",
    "ax.plot(t, x, color = plt.cm.Greys(0.5))\n",
    "ax.plot(t[cr_indices], x[cr_indices], 'xr')\n",
    "ax.plot(t, x_rmvd, color = 'b')\n",
    "t_avg = np.arange(0, len(x_avg) * tsample * navg, tsample * navg)\n",
    "ax.plot(t_avg, x_avg, color = 'r')"
   ]
  },
  {
   "cell_type": "code",
   "execution_count": null,
   "id": "f224b9ec",
   "metadata": {},
   "outputs": [],
   "source": []
  },
  {
   "cell_type": "code",
   "execution_count": null,
   "id": "e3838fec",
   "metadata": {},
   "outputs": [],
   "source": []
  },
  {
   "cell_type": "code",
   "execution_count": null,
   "id": "238f4f8c",
   "metadata": {},
   "outputs": [],
   "source": []
  },
  {
   "cell_type": "code",
   "execution_count": null,
   "id": "7858b160",
   "metadata": {},
   "outputs": [],
   "source": []
  }
 ],
 "metadata": {
  "kernelspec": {
   "display_name": "Python 3 (ipykernel)",
   "language": "python",
   "name": "python3"
  },
  "language_info": {
   "codemirror_mode": {
    "name": "ipython",
    "version": 3
   },
   "file_extension": ".py",
   "mimetype": "text/x-python",
   "name": "python",
   "nbconvert_exporter": "python",
   "pygments_lexer": "ipython3",
   "version": "3.9.12"
  }
 },
 "nbformat": 4,
 "nbformat_minor": 5
}
