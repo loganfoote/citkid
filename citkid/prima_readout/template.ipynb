{
 "cells": [
  {
   "cell_type": "code",
   "execution_count": null,
   "id": "31f9269f",
   "metadata": {},
   "outputs": [],
   "source": [
    "import matplotlib.pyplot as plt\n",
    "from citkid.prima_readout.generator import generate_data\n",
    "from citkid.prima_readout.create_cal import make_x_cal\n",
    "from citkid.prima_readout.apply_cal import convert_iq_to_x\n",
    "from citkid.prima_readout.data_io import *\n",
    "from citkid.res.gain import remove_gain\n",
    "from citkid.prima_readout.cosmic_rays import remove_cosmic_rays\n",
    "from citkid.prima_readout.average import average_x"
   ]
  },
  {
   "cell_type": "markdown",
   "id": "339c322e",
   "metadata": {},
   "source": [
    "## Generate random data \n",
    "The following function generates fine scan data (ffine, zfine), gain scan data (fgain, zgain), and a timestream (f0 is the tone frequency and znoise is the timestream). The fine and gain scans have random parameters, and the noise timestream has fixed parameters (I want to vary these eventually), but scaled to the IQ loop. noise_factor is used to increase or decrease the average amount of noise in the IQ loops. "
   ]
  },
  {
   "cell_type": "code",
   "execution_count": null,
   "id": "49c9feea",
   "metadata": {},
   "outputs": [],
   "source": [
    "ffine, zfine, fgain, zgain, f0, znoise = generate_data(noise_factor = 0)"
   ]
  },
  {
   "cell_type": "markdown",
   "id": "d55584d9",
   "metadata": {},
   "source": [
    "## Create and save calibration file\n",
    "The following code is run on the ground to create calibration files, given the data that is measured (or in this case generated)."
   ]
  },
  {
   "cell_type": "code",
   "execution_count": null,
   "id": "6bdef116",
   "metadata": {
    "scrolled": false
   },
   "outputs": [],
   "source": [
    "# Create calibration data and plots\n",
    "fs = [np.mean(ffine)]\n",
    "Qs = [10000] # This scales with resonator Q\n",
    "p_amp, p_phase, origin, v, theta_fine, p_x, figs =\\\n",
    "make_x_cal(ffine, zfine, fgain, zgain, fs, Qs, plotq = True)\n",
    "\n",
    "# Save data and plots\n",
    "data_directory = 'C:/data/citkid_dev/prima_readout/test/'\n",
    "plot_directory = data_directory + 'plots/'\n",
    "filename = 'test'\n",
    "save_x_cal(data_directory, filename, p_amp, p_phase, origin, v, p_x, figs, \n",
    "           plot_directory = plot_directory, make_directories = True)\n",
    "ax = figs[1].axes[0]"
   ]
  },
  {
   "cell_type": "markdown",
   "id": "7e0b6a88",
   "metadata": {},
   "source": [
    "## Load calibration file"
   ]
  },
  {
   "cell_type": "code",
   "execution_count": null,
   "id": "c53064e1",
   "metadata": {},
   "outputs": [],
   "source": [
    "p_amp, p_phase, origin, v, p_x = load_x_cal(data_directory + filename + '.npz')"
   ]
  },
  {
   "cell_type": "markdown",
   "id": "9d2aa918",
   "metadata": {},
   "source": [
    "## Convert znoise to x using the loaded calibration"
   ]
  },
  {
   "cell_type": "code",
   "execution_count": null,
   "id": "14e9d782",
   "metadata": {},
   "outputs": [],
   "source": [
    "x = convert_iq_to_x(f0, znoise, p_amp, p_phase, origin, v, p_x)"
   ]
  },
  {
   "cell_type": "markdown",
   "id": "c9f948f5",
   "metadata": {},
   "source": [
    "## Remove cosmic rays\n",
    "We would characterize the time constant of each detector ahead of time. We have to characterize the spread accross the array: maybe this can be a fixed value for the whole array. cr_nstd will also be characterized ahead of time. I suspect it will depend on the noise of each detector. We need to do some work on cosmic ray generator, because they look a little weird right now. There is also some work to do on the peak finding algorithm parameters."
   ]
  },
  {
   "cell_type": "code",
   "execution_count": null,
   "id": "21e9e30f",
   "metadata": {},
   "outputs": [],
   "source": [
    "fsample = 10e3 # 10 kHz \n",
    "tsample = 1 / fsample\n",
    "cr_indices, x_rmvd = remove_cosmic_rays(x, tsample, cr_nstd = 6, time_constant = 1e-3)"
   ]
  },
  {
   "cell_type": "markdown",
   "id": "54357575",
   "metadata": {},
   "source": [
    "## Average data to 500 Hz, and write to a file"
   ]
  },
  {
   "cell_type": "code",
   "execution_count": null,
   "id": "95a2e502",
   "metadata": {},
   "outputs": [],
   "source": [
    "navg = 10000 // 500\n",
    "x_avg = average_x(x_rmvd, navg)"
   ]
  },
  {
   "cell_type": "code",
   "execution_count": null,
   "id": "a3b5c6e7",
   "metadata": {},
   "outputs": [],
   "source": [
    "np.save(data_directory + 'xavg.npy', x_avg)"
   ]
  },
  {
   "cell_type": "markdown",
   "id": "5bfb00fd",
   "metadata": {},
   "source": [
    "# Plotting some of the data for reference"
   ]
  },
  {
   "cell_type": "markdown",
   "id": "776b5b13",
   "metadata": {},
   "source": [
    "## Raw IQ and timestream\n",
    "Here is the raw fine and gain scan sweep data plotted in $|S_{21}|$ versus frequency space and IQ space, with the timestream plotted on the IQ plot."
   ]
  },
  {
   "cell_type": "code",
   "execution_count": null,
   "id": "3483296f",
   "metadata": {},
   "outputs": [],
   "source": [
    "fig, axs = plt.subplots(1, 2, figsize = [12, 4], dpi = 300, layout = 'tight')\n",
    "axs[0].set(ylabel = r'$|S_{21}|$ (dB)', xlabel = 'Frequency (GHz)')\n",
    "axs[1].set(ylabel = 'Q', xlabel = 'I')\n",
    "axs[1].set_aspect('equal')\n",
    "\n",
    "axs[0].plot(fgain / 1e9, 20 * np.log10(abs(zgain)), '.', color = plt.cm.viridis(0.1))\n",
    "axs[0].plot(ffine / 1e9, 20 * np.log10(abs(zfine)), '.', color = plt.cm.viridis(0.9))\n",
    "\n",
    "axs[1].plot(np.real(zgain), np.imag(zgain), '.', color = plt.cm.viridis(0.1), label = 'gain scan')\n",
    "axs[1].plot(np.real(zfine), np.imag(zfine), '.', color = plt.cm.viridis(0.9), label = 'fine scan')\n",
    "\n",
    "axs[1].plot(np.real(znoise[::10]), np.imag(znoise[::10]), '.', color = plt.cm.Greys(0.5), label = 'timestream')\n",
    "axs[1].legend()"
   ]
  },
  {
   "cell_type": "markdown",
   "id": "4c56312f",
   "metadata": {},
   "source": [
    "## Remove gain from S21 data, and center the circle on 0 + 0j\n",
    "This is the result of the first part of the the conversion from IQ to x. I have applied the conversion to the fine sweep data and the timestream. On the IQ plot, I have also plotted v, the vector that defines the angle at which $\\theta=0$."
   ]
  },
  {
   "cell_type": "code",
   "execution_count": null,
   "id": "3d934411",
   "metadata": {},
   "outputs": [],
   "source": [
    "from citkid.res.gain import remove_gain\n",
    "zfine_rmvd = remove_gain(ffine, zfine, p_amp, p_phase)\n",
    "zfine_shifted = zfine_rmvd - origin\n",
    "\n",
    "znoise_rmvd = remove_gain(f0, znoise, p_amp, p_phase)\n",
    "znoise_shifted = znoise_rmvd - origin"
   ]
  },
  {
   "cell_type": "code",
   "execution_count": null,
   "id": "dced8895",
   "metadata": {},
   "outputs": [],
   "source": [
    "fig, axs = plt.subplots(1, 2, figsize = [12, 4], dpi = 300, layout = 'tight')\n",
    "axs[0].set(ylabel = r'$|S_{21}|$ (dB)', xlabel = 'Frequency (GHz)')\n",
    "axs[1].set(ylabel = 'Q', xlabel = 'I')\n",
    "axs[1].set_aspect('equal')\n",
    "\n",
    "axs[0].plot(ffine / 1e9, 20 * np.log10(abs(zfine_shifted)), '.', color = plt.cm.viridis(0.9))\n",
    "\n",
    "r0 = abs(np.mean(znoise_shifted)) # amplitude for plotting, but only the angle of v is relevant for analysis\n",
    "axs[1].plot([0, np.real(v) * r0], [0, np.imag(v) * r0], '-k', label = r'v ($\\theta = 0$)')\n",
    "axs[1].plot(np.real(zfine_shifted), np.imag(zfine_shifted), '.', color = plt.cm.viridis(0.9), label = 'fine scan')\n",
    "axs[1].plot(np.real(znoise_shifted[::10]), np.imag(znoise_shifted[::10]), '.', color = plt.cm.Greys(0.5), label = 'timestream')\n",
    "\n",
    "axs[1].legend()"
   ]
  },
  {
   "cell_type": "markdown",
   "id": "c1b0f6d6",
   "metadata": {},
   "source": [
    "## Cosmic ray removal and averaging\n",
    "Here is a timestream before and after cosmic ray removal. We need to fine tune a few things here, so the cosmic ray removal is not perfect right now."
   ]
  },
  {
   "cell_type": "code",
   "execution_count": null,
   "id": "359900a4",
   "metadata": {},
   "outputs": [],
   "source": [
    "# Plot \n",
    "fig, ax = plt.subplots(figsize = [6, 2], dpi = 150, layout = 'tight')\n",
    "ax.set(xlabel = 'Time (s)', ylabel = 'x (Hz / MHz)')\n",
    "t = np.arange(0, tsample * len(x), tsample)\n",
    "ax.plot(t, x, color = plt.cm.Greys(0.5))\n",
    "ax.plot(t[cr_indices], x[cr_indices], 'xr')\n",
    "ax.plot(t, x_rmvd, color = 'b')\n",
    "t_avg = np.arange(0, len(x_avg) * tsample * navg, tsample * navg)\n",
    "ax.plot(t_avg, x_avg, color = 'r')"
   ]
  },
  {
   "cell_type": "markdown",
   "id": "7c765ed7",
   "metadata": {},
   "source": [
    "## PSDs\n",
    "Here are the corresponding PSDs of the x timestreams with and without cosmic ray removal."
   ]
  },
  {
   "cell_type": "code",
   "execution_count": null,
   "id": "e3838fec",
   "metadata": {},
   "outputs": [],
   "source": [
    "from citkid.noise.psd import bin_psd, get_psd\n",
    "x = convert_iq_to_x(f0, znoise, p_amp, p_phase, origin, v, p_x)\n",
    "f, sxx = get_psd(x, tsample, get_frequencies = True)\n",
    "fbin, sxxbin = bin_psd(f, [f, sxx], fmin = 0.1, nbins = 80)\n",
    "f_rmvd, sxx_rmvd = get_psd(x_rmvd, tsample, get_frequencies = True)\n",
    "fbin_rmvd, sxxbin_rmvd = bin_psd(f_rmvd, [f_rmvd, sxx_rmvd], fmin = 0.1, nbins = 80)"
   ]
  },
  {
   "cell_type": "code",
   "execution_count": null,
   "id": "238f4f8c",
   "metadata": {},
   "outputs": [],
   "source": [
    "fig, ax = plt.subplots(figsize = [4, 3], dpi = 300)\n",
    "ax.set(yscale = 'log', xscale = 'log', ylabel = r'$S_{xx}$ (1 / Hz)', xlabel = 'Frequency (Hz )')\n",
    "ax.plot(fbin, sxxbin, color = plt.cm.viridis(0.1), label = 'with cosmic rays')\n",
    "ax.plot(fbin_rmvd, sxxbin_rmvd, color = plt.cm.viridis(0.9), label = 'cosmic rays removed')\n",
    "ax.legend()"
   ]
  },
  {
   "cell_type": "code",
   "execution_count": null,
   "id": "7858b160",
   "metadata": {},
   "outputs": [],
   "source": []
  },
  {
   "cell_type": "code",
   "execution_count": null,
   "id": "eed11212",
   "metadata": {},
   "outputs": [],
   "source": []
  },
  {
   "cell_type": "code",
   "execution_count": null,
   "id": "58fc0945",
   "metadata": {},
   "outputs": [],
   "source": []
  }
 ],
 "metadata": {
  "kernelspec": {
   "display_name": "Python 3 (ipykernel)",
   "language": "python",
   "name": "python3"
  },
  "language_info": {
   "codemirror_mode": {
    "name": "ipython",
    "version": 3
   },
   "file_extension": ".py",
   "mimetype": "text/x-python",
   "name": "python",
   "nbconvert_exporter": "python",
   "pygments_lexer": "ipython3",
   "version": "3.9.12"
  }
 },
 "nbformat": 4,
 "nbformat_minor": 5
}
